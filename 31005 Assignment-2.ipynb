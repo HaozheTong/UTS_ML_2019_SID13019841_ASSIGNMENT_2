{
 "cells": [
  {
   "cell_type": "markdown",
   "metadata": {},
   "source": [
    "# Diagnosis of Breast Cancer with K-Nearst Neighbor Algorithm"
   ]
  },
  {
   "cell_type": "markdown",
   "metadata": {},
   "source": [
    "Haozhe.Tong SID: 13019841\n",
    "\n",
    "Ruiyang. Hu SID: 13055189"
   ]
  },
  {
   "cell_type": "markdown",
   "metadata": {},
   "source": [
    "## Introduction"
   ]
  },
  {
   "cell_type": "markdown",
   "metadata": {},
   "source": [
    "K-Nearest Neighbor (K-NN) is a simple algorithm in machine learning, it is a basic classification ad regression method. Generally, K-Nearest Neighbor algorithm uses the method of measuring the distance between different eigenvalues for classification (Peterson, 2009). If most of the K nearest samples, which refers to the closest samples, of a sample in the feature space belong to a certain category, then the sample also belongs to this category and has the characteristics of the samples in this category. The advantages of K-Nearest Neighbor include high accuracy, insensitive to outliers and no data input assumption (Peterson, 2009). However, the computational complexity and space complexity of it is high. Therefore, it is normally applied for the numeric and nominal data type. "
   ]
  },
  {
   "cell_type": "markdown",
   "metadata": {},
   "source": [
    "The steps of K-Nearest Neighbor can be described as the following steps (Bronshtein, 2017):\n",
    "    1.\tCalculate the distance between sample data and data to be classified.\n",
    "    2.\tChoose K samples with the smallest distance from the data to be classified. \n",
    "    3.\tCount the classification of which most of the K samples belong.\n",
    "    4.\tClassify the data to that classification. \n"
   ]
  },
  {
   "cell_type": "markdown",
   "metadata": {},
   "source": [
    "## Exploration "
   ]
  },
  {
   "cell_type": "markdown",
   "metadata": {},
   "source": [
    "### Data Preprocess"
   ]
  },
  {
   "cell_type": "markdown",
   "metadata": {},
   "source": [
    "Preprocess data is an essential step before load dataset into K-NN algorithm. A dataset should randomly be divided into training dataset for making prediction and test dataset for evaluation accuracy. So, the function could like:"
   ]
  },
  {
   "cell_type": "code",
   "execution_count": 1,
   "metadata": {},
   "outputs": [],
   "source": [
    "import csv \n",
    "import random\n",
    "\n",
    "# Preprocess raw data\n",
    "def loadDataset (filename,split,trainingSet=[] , testSet=[] ):\n",
    "    filename = 'data.csv'\n",
    "    raw_data = open(filename, 'rt')\n",
    "    reader = csv.reader(raw_data, delimiter=',', quoting=csv.QUOTE_NONE)\n",
    "    dataset = list(reader)\n",
    "    for x in range (len(dataset) - 1):\n",
    "        for y in range (4):\n",
    "            dataset[x][y] = float(dataset[x][y])\n",
    "        if random.random() < split:\n",
    "            trainingSet.append(dataset[x])\n",
    "        else:\n",
    "            testSet.append(dataset[x])"
   ]
  },
  {
   "cell_type": "markdown",
   "metadata": {},
   "source": [
    "In this function, we load a CSV file called “data” and divide the whole dataset into a training dataset and test dataset and the function can be tested through this way:"
   ]
  },
  {
   "cell_type": "code",
   "execution_count": 2,
   "metadata": {},
   "outputs": [
    {
     "name": "stdout",
     "output_type": "stream",
     "text": [
      "Train set: 399\n",
      "Test set: 169\n"
     ]
    }
   ],
   "source": [
    "    trainingSet = []\n",
    "    testSet = []\n",
    "    split = 0.70\n",
    "    loadDataset('data.csv', split, trainingSet,testSet)\n",
    "    print('Train set: ' + repr(len(trainingSet)))\n",
    "    print('Test set: ' + repr(len(testSet)))"
   ]
  },
  {
   "cell_type": "markdown",
   "metadata": {},
   "source": [
    "The result shows there are 400 samples in training dataset and 168 samples in test dataset."
   ]
  },
  {
   "cell_type": "markdown",
   "metadata": {},
   "source": [
    "### Distance Calculation"
   ]
  },
  {
   "cell_type": "markdown",
   "metadata": {},
   "source": [
    "There are two formulas currently used in K-NN algorithm to calculate the distance between sample data and data classified, they are called Euclidean distance and Manhattan distance (Peterson, L.E, 2009). The formulas are presented below:"
   ]
  },
  {
   "cell_type": "markdown",
   "metadata": {},
   "source": [
    "Euclidean distance: $d(x,y) = \\sqrt{\\sum_{k=1}^{n}{(x_k - y_k)^2}}$\n"
   ]
  },
  {
   "cell_type": "markdown",
   "metadata": {},
   "source": [
    "Manhattan distance: $d(x,y) = \\sqrt{\\sum_{k=1}^{n}{\\lvert(x_k - y_k)\\rvert}}$"
   ]
  },
  {
   "cell_type": "markdown",
   "metadata": {},
   "source": [
    "For those numerical data like iris, it is more suitable for them to calculate through Euclidean distance. The function of Euclidean distance is like:"
   ]
  },
  {
   "cell_type": "code",
   "execution_count": 3,
   "metadata": {},
   "outputs": [],
   "source": [
    "import math\n",
    "# Calculate the distance between two sample\n",
    "def euclideanDistance (instance1,instance2,length):\n",
    "    distance = 0\n",
    "    for x in range (length):\n",
    "        distance += pow((float(instance1[x]) - float(instance2[x])), 2)\n",
    "    return math.sqrt(distance)"
   ]
  },
  {
   "cell_type": "markdown",
   "metadata": {},
   "source": [
    "In order to test this function, we build some fake data, like:"
   ]
  },
  {
   "cell_type": "code",
   "execution_count": 4,
   "metadata": {},
   "outputs": [
    {
     "name": "stdout",
     "output_type": "stream",
     "text": [
      "Distance: 5.196152422706632\n"
     ]
    }
   ],
   "source": [
    "data1 = [1, 2, 3, 'x']\n",
    "data2 = [4, 5, 6, 'y']\n",
    "distance = euclideanDistance (data1, data2,3)\n",
    "print(\"Distance: \" + repr(distance))"
   ]
  },
  {
   "cell_type": "markdown",
   "metadata": {},
   "source": [
    "### Finding Neighbor"
   ]
  },
  {
   "cell_type": "markdown",
   "metadata": {},
   "source": [
    "Through the distance formula, there could serval data instances closest to the data that required prediction be found. The function is shown below: "
   ]
  },
  {
   "cell_type": "code",
   "execution_count": 5,
   "metadata": {},
   "outputs": [],
   "source": [
    "import operator\n",
    "# Find Neighbors\n",
    "def getNeighbors(trainingSet,testInstance, k):\n",
    "    distance = []\n",
    "    length = len(testInstance) - 1\n",
    "    for x in trainingSet:\n",
    "        dist = euclideanDistance(testInstance, x, length)\n",
    "        distance.append((x, dist))\n",
    "    distance.sort(key = operator.itemgetter(1))\n",
    "    neighbors = [x[0] for x in distance[:k]]\n",
    "    return neighbors"
   ]
  },
  {
   "cell_type": "markdown",
   "metadata": {},
   "source": [
    "we build a training dataset and a test dataset to test this function where k = 1."
   ]
  },
  {
   "cell_type": "code",
   "execution_count": 6,
   "metadata": {},
   "outputs": [
    {
     "name": "stdout",
     "output_type": "stream",
     "text": [
      "[[4, 5, 6, 'y']]\n"
     ]
    }
   ],
   "source": [
    "trainingSet = [[1, 2, 3, 'x'],\n",
    "               [4, 5, 6, 'y']]\n",
    "testInstance = [7,8,9]\n",
    "k = 1\n",
    "neighbors = getNeighbors(trainingSet, testInstance, k)\n",
    "print(neighbors)"
   ]
  },
  {
   "cell_type": "markdown",
   "metadata": {},
   "source": [
    "### Classify classification"
   ]
  },
  {
   "cell_type": "markdown",
   "metadata": {},
   "source": [
    "After the few steps above, one function should be built to get the result and it is shown below:"
   ]
  },
  {
   "cell_type": "code",
   "execution_count": 7,
   "metadata": {},
   "outputs": [],
   "source": [
    "import operator\n",
    "# Get Response\n",
    "def getResponse(neighbors):\n",
    "    classVotes = {}\n",
    "    for x in range(len(neighbors)):\n",
    "        response = neighbors[x][-1]\n",
    "        if response in classVotes:\n",
    "            classVotes[response] += 1\n",
    "        else:\n",
    "            classVotes[response] = 1\n",
    "    sortedVotes = sorted(classVotes.items(),key =operator.itemgetter(1),\n",
    "                         reverse = True)\n",
    "    return sortedVotes[0][0]"
   ]
  },
  {
   "cell_type": "markdown",
   "metadata": {},
   "source": [
    "And the data used to test the function is presented:"
   ]
  },
  {
   "cell_type": "code",
   "execution_count": 8,
   "metadata": {},
   "outputs": [
    {
     "name": "stdout",
     "output_type": "stream",
     "text": [
      "x\n"
     ]
    }
   ],
   "source": [
    "neighbors = [[1, 2, 3, 'x'],\n",
    "             [4, 5, 6, 'y'],\n",
    "             [7, 8, 9, 'z']]\n",
    "response = getResponse(neighbors)\n",
    "print (response)"
   ]
  },
  {
   "cell_type": "markdown",
   "metadata": {},
   "source": [
    "For any algorithm, it is always important to calculate accuracy. One of the approaches to evaluate accuracy is to count the proportion of correctly predicted by the algorithm in the test dataset. And this is implemented in K-NN algorithm though the way:"
   ]
  },
  {
   "cell_type": "code",
   "execution_count": 9,
   "metadata": {},
   "outputs": [],
   "source": [
    "# Calculate Prediction Accuracy\n",
    "def getAccuracy (testSet, predictions):\n",
    "    correct = 0\n",
    "    for x in range (len(testSet)):\n",
    "        if testSet[x][-1] == predictions[x]:\n",
    "            correct += 1\n",
    "    return (correct/float(len(testSet))) * 100.0"
   ]
  },
  {
   "cell_type": "markdown",
   "metadata": {},
   "source": [
    "It can be tested with a random sample:"
   ]
  },
  {
   "cell_type": "code",
   "execution_count": 10,
   "metadata": {},
   "outputs": [
    {
     "name": "stdout",
     "output_type": "stream",
     "text": [
      "33.33333333333333\n"
     ]
    }
   ],
   "source": [
    "testSet = [ [1, 2, 3, 'x'],\n",
    "            [4, 5, 6, 'y'],\n",
    "            [7, 8, 9, 'z']]\n",
    "prediction = ['x','x','x']\n",
    "accuracy = getAccuracy(testSet, prediction)\n",
    "print(accuracy)"
   ]
  },
  {
   "cell_type": "markdown",
   "metadata": {},
   "source": [
    "## Methodology"
   ]
  },
  {
   "cell_type": "markdown",
   "metadata": {},
   "source": [
    "Before loading the data into K-NN algorithm and predict the result,we try to analysis the data of breast cancer with some functions in the begining to get a more accurate prediction.    "
   ]
  },
  {
   "cell_type": "code",
   "execution_count": 11,
   "metadata": {},
   "outputs": [],
   "source": [
    "import csv \n",
    "import random\n",
    "import math \n",
    "import operator\n",
    "import numpy as np\n",
    "import pandas as pd"
   ]
  },
  {
   "cell_type": "code",
   "execution_count": 12,
   "metadata": {},
   "outputs": [],
   "source": [
    "filename = pd.read_csv('data1.csv') "
   ]
  },
  {
   "cell_type": "markdown",
   "metadata": {},
   "source": [
    "In the function below, we try to obtain a overview of the dataset of breast cancer:"
   ]
  },
  {
   "cell_type": "code",
   "execution_count": 13,
   "metadata": {},
   "outputs": [
    {
     "data": {
      "text/html": [
       "<div>\n",
       "<style scoped>\n",
       "    .dataframe tbody tr th:only-of-type {\n",
       "        vertical-align: middle;\n",
       "    }\n",
       "\n",
       "    .dataframe tbody tr th {\n",
       "        vertical-align: top;\n",
       "    }\n",
       "\n",
       "    .dataframe thead th {\n",
       "        text-align: right;\n",
       "    }\n",
       "</style>\n",
       "<table border=\"1\" class=\"dataframe\">\n",
       "  <thead>\n",
       "    <tr style=\"text-align: right;\">\n",
       "      <th></th>\n",
       "      <th>radius_mean</th>\n",
       "      <th>texture_mean</th>\n",
       "      <th>perimeter_mean</th>\n",
       "      <th>area_mean</th>\n",
       "      <th>smoothness_mean</th>\n",
       "      <th>compactness_mean</th>\n",
       "      <th>concavity_mean</th>\n",
       "      <th>concave points_mean</th>\n",
       "      <th>symmetry_mean</th>\n",
       "      <th>fractal_dimension_mean</th>\n",
       "      <th>...</th>\n",
       "      <th>texture_worst</th>\n",
       "      <th>perimeter_worst</th>\n",
       "      <th>area_worst</th>\n",
       "      <th>smoothness_worst</th>\n",
       "      <th>compactness_worst</th>\n",
       "      <th>concavity_worst</th>\n",
       "      <th>concave points_worst</th>\n",
       "      <th>symmetry_worst</th>\n",
       "      <th>fractal_dimension_worst</th>\n",
       "      <th>diagnosis</th>\n",
       "    </tr>\n",
       "  </thead>\n",
       "  <tbody>\n",
       "    <tr>\n",
       "      <th>0</th>\n",
       "      <td>17.99</td>\n",
       "      <td>10.38</td>\n",
       "      <td>122.80</td>\n",
       "      <td>1001.0</td>\n",
       "      <td>0.11840</td>\n",
       "      <td>0.27760</td>\n",
       "      <td>0.3001</td>\n",
       "      <td>0.14710</td>\n",
       "      <td>0.2419</td>\n",
       "      <td>0.07871</td>\n",
       "      <td>...</td>\n",
       "      <td>17.33</td>\n",
       "      <td>184.60</td>\n",
       "      <td>2019.0</td>\n",
       "      <td>0.1622</td>\n",
       "      <td>0.6656</td>\n",
       "      <td>0.7119</td>\n",
       "      <td>0.2654</td>\n",
       "      <td>0.4601</td>\n",
       "      <td>0.11890</td>\n",
       "      <td>2</td>\n",
       "    </tr>\n",
       "    <tr>\n",
       "      <th>1</th>\n",
       "      <td>20.57</td>\n",
       "      <td>17.77</td>\n",
       "      <td>132.90</td>\n",
       "      <td>1326.0</td>\n",
       "      <td>0.08474</td>\n",
       "      <td>0.07864</td>\n",
       "      <td>0.0869</td>\n",
       "      <td>0.07017</td>\n",
       "      <td>0.1812</td>\n",
       "      <td>0.05667</td>\n",
       "      <td>...</td>\n",
       "      <td>23.41</td>\n",
       "      <td>158.80</td>\n",
       "      <td>1956.0</td>\n",
       "      <td>0.1238</td>\n",
       "      <td>0.1866</td>\n",
       "      <td>0.2416</td>\n",
       "      <td>0.1860</td>\n",
       "      <td>0.2750</td>\n",
       "      <td>0.08902</td>\n",
       "      <td>2</td>\n",
       "    </tr>\n",
       "    <tr>\n",
       "      <th>2</th>\n",
       "      <td>19.69</td>\n",
       "      <td>21.25</td>\n",
       "      <td>130.00</td>\n",
       "      <td>1203.0</td>\n",
       "      <td>0.10960</td>\n",
       "      <td>0.15990</td>\n",
       "      <td>0.1974</td>\n",
       "      <td>0.12790</td>\n",
       "      <td>0.2069</td>\n",
       "      <td>0.05999</td>\n",
       "      <td>...</td>\n",
       "      <td>25.53</td>\n",
       "      <td>152.50</td>\n",
       "      <td>1709.0</td>\n",
       "      <td>0.1444</td>\n",
       "      <td>0.4245</td>\n",
       "      <td>0.4504</td>\n",
       "      <td>0.2430</td>\n",
       "      <td>0.3613</td>\n",
       "      <td>0.08758</td>\n",
       "      <td>2</td>\n",
       "    </tr>\n",
       "    <tr>\n",
       "      <th>3</th>\n",
       "      <td>11.42</td>\n",
       "      <td>20.38</td>\n",
       "      <td>77.58</td>\n",
       "      <td>386.1</td>\n",
       "      <td>0.14250</td>\n",
       "      <td>0.28390</td>\n",
       "      <td>0.2414</td>\n",
       "      <td>0.10520</td>\n",
       "      <td>0.2597</td>\n",
       "      <td>0.09744</td>\n",
       "      <td>...</td>\n",
       "      <td>26.50</td>\n",
       "      <td>98.87</td>\n",
       "      <td>567.7</td>\n",
       "      <td>0.2098</td>\n",
       "      <td>0.8663</td>\n",
       "      <td>0.6869</td>\n",
       "      <td>0.2575</td>\n",
       "      <td>0.6638</td>\n",
       "      <td>0.17300</td>\n",
       "      <td>2</td>\n",
       "    </tr>\n",
       "    <tr>\n",
       "      <th>4</th>\n",
       "      <td>20.29</td>\n",
       "      <td>14.34</td>\n",
       "      <td>135.10</td>\n",
       "      <td>1297.0</td>\n",
       "      <td>0.10030</td>\n",
       "      <td>0.13280</td>\n",
       "      <td>0.1980</td>\n",
       "      <td>0.10430</td>\n",
       "      <td>0.1809</td>\n",
       "      <td>0.05883</td>\n",
       "      <td>...</td>\n",
       "      <td>16.67</td>\n",
       "      <td>152.20</td>\n",
       "      <td>1575.0</td>\n",
       "      <td>0.1374</td>\n",
       "      <td>0.2050</td>\n",
       "      <td>0.4000</td>\n",
       "      <td>0.1625</td>\n",
       "      <td>0.2364</td>\n",
       "      <td>0.07678</td>\n",
       "      <td>2</td>\n",
       "    </tr>\n",
       "  </tbody>\n",
       "</table>\n",
       "<p>5 rows × 31 columns</p>\n",
       "</div>"
      ],
      "text/plain": [
       "   radius_mean  texture_mean  perimeter_mean  area_mean  smoothness_mean  \\\n",
       "0        17.99         10.38          122.80     1001.0          0.11840   \n",
       "1        20.57         17.77          132.90     1326.0          0.08474   \n",
       "2        19.69         21.25          130.00     1203.0          0.10960   \n",
       "3        11.42         20.38           77.58      386.1          0.14250   \n",
       "4        20.29         14.34          135.10     1297.0          0.10030   \n",
       "\n",
       "   compactness_mean  concavity_mean  concave points_mean  symmetry_mean  \\\n",
       "0           0.27760          0.3001              0.14710         0.2419   \n",
       "1           0.07864          0.0869              0.07017         0.1812   \n",
       "2           0.15990          0.1974              0.12790         0.2069   \n",
       "3           0.28390          0.2414              0.10520         0.2597   \n",
       "4           0.13280          0.1980              0.10430         0.1809   \n",
       "\n",
       "   fractal_dimension_mean  ...  texture_worst  perimeter_worst  area_worst  \\\n",
       "0                 0.07871  ...          17.33           184.60      2019.0   \n",
       "1                 0.05667  ...          23.41           158.80      1956.0   \n",
       "2                 0.05999  ...          25.53           152.50      1709.0   \n",
       "3                 0.09744  ...          26.50            98.87       567.7   \n",
       "4                 0.05883  ...          16.67           152.20      1575.0   \n",
       "\n",
       "   smoothness_worst  compactness_worst  concavity_worst  concave points_worst  \\\n",
       "0            0.1622             0.6656           0.7119                0.2654   \n",
       "1            0.1238             0.1866           0.2416                0.1860   \n",
       "2            0.1444             0.4245           0.4504                0.2430   \n",
       "3            0.2098             0.8663           0.6869                0.2575   \n",
       "4            0.1374             0.2050           0.4000                0.1625   \n",
       "\n",
       "   symmetry_worst  fractal_dimension_worst  diagnosis  \n",
       "0          0.4601                  0.11890          2  \n",
       "1          0.2750                  0.08902          2  \n",
       "2          0.3613                  0.08758          2  \n",
       "3          0.6638                  0.17300          2  \n",
       "4          0.2364                  0.07678          2  \n",
       "\n",
       "[5 rows x 31 columns]"
      ]
     },
     "execution_count": 13,
     "metadata": {},
     "output_type": "execute_result"
    }
   ],
   "source": [
    "filename.head()"
   ]
  },
  {
   "cell_type": "markdown",
   "metadata": {},
   "source": [
    "In the K-NN algorithm, it can only be implemented for the numeric or nominal data type, so, through the function below, we can observe the data types of each attribute. An algorithm must check whether missing value existing or not. This another purpose for us to build this function"
   ]
  },
  {
   "cell_type": "code",
   "execution_count": 14,
   "metadata": {},
   "outputs": [
    {
     "name": "stdout",
     "output_type": "stream",
     "text": [
      "<class 'pandas.core.frame.DataFrame'>\n",
      "RangeIndex: 569 entries, 0 to 568\n",
      "Data columns (total 31 columns):\n",
      "radius_mean                569 non-null float64\n",
      "texture_mean               569 non-null float64\n",
      "perimeter_mean             569 non-null float64\n",
      "area_mean                  569 non-null float64\n",
      "smoothness_mean            569 non-null float64\n",
      "compactness_mean           569 non-null float64\n",
      "concavity_mean             569 non-null float64\n",
      "concave points_mean        569 non-null float64\n",
      "symmetry_mean              569 non-null float64\n",
      "fractal_dimension_mean     569 non-null float64\n",
      "radius_se                  569 non-null float64\n",
      "texture_se                 569 non-null float64\n",
      "perimeter_se               569 non-null float64\n",
      "area_se                    569 non-null float64\n",
      "smoothness_se              569 non-null float64\n",
      "compactness_se             569 non-null float64\n",
      "concavity_se               569 non-null float64\n",
      "concave points_se          569 non-null float64\n",
      "symmetry_se                569 non-null float64\n",
      "fractal_dimension_se       569 non-null float64\n",
      "radius_worst               569 non-null float64\n",
      "texture_worst              569 non-null float64\n",
      "perimeter_worst            569 non-null float64\n",
      "area_worst                 569 non-null float64\n",
      "smoothness_worst           569 non-null float64\n",
      "compactness_worst          569 non-null float64\n",
      "concavity_worst            569 non-null float64\n",
      "concave points_worst       569 non-null float64\n",
      "symmetry_worst             569 non-null float64\n",
      "fractal_dimension_worst    569 non-null float64\n",
      "diagnosis                  569 non-null int64\n",
      "dtypes: float64(30), int64(1)\n",
      "memory usage: 137.9 KB\n"
     ]
    }
   ],
   "source": [
    "filename.info()"
   ]
  },
  {
   "cell_type": "markdown",
   "metadata": {},
   "source": [
    "We can know what attributes can be predicted and what attributes can be used to predict through the following function. Because only \"diagnosis\" attribute have two categories which refers to 2 and 4 (2 is malignant, 4 is benign) and they can be predicted."
   ]
  },
  {
   "attachments": {
    "Random%20forest%20accuacy.jpg": {
     "image/jpeg": "[encoded data removed]"
    }
   },
   "cell_type": "markdown",
   "metadata": {},
   "source": [
    "![Random%20forest%20accuacy.jpg](attachment:Random%20forest%20accuacy.jpg)"
   ]
  },
  {
   "cell_type": "markdown",
   "metadata": {},
   "source": [
    "In this paper, we extracted 569 instances from Wisconsin Breast Cancer Dataset. We build a function to pre-process the raw data to enable them to be divided into a training dataset and test dataset. The ratio of the training dataset to the test dataset is seven to three in this algorithm."
   ]
  },
  {
   "cell_type": "markdown",
   "metadata": {},
   "source": [
    "After loading data into K-NN algorithm, the distance between two samples will be calculated through the Euclidean distance formula. And then find the closest neighbor for the predicted data and classify them as that category. "
   ]
  },
  {
   "cell_type": "markdown",
   "metadata": {},
   "source": [
    "The response of classification will be returned with accuracy when the result displayed in the end. And the whole method of K-NN algorithm is stated:"
   ]
  },
  {
   "cell_type": "code",
   "execution_count": 16,
   "metadata": {},
   "outputs": [],
   "source": [
    "import csv \n",
    "import random\n",
    "import math \n",
    "import operator\n",
    "import numpy as np\n",
    "import pandas as pd"
   ]
  },
  {
   "cell_type": "code",
   "execution_count": 24,
   "metadata": {},
   "outputs": [],
   "source": [
    "# Preprocess raw data\n",
    "def loadDataset (filename,split,trainingSet=[] , testSet=[] ):\n",
    "    filename = 'data.csv'\n",
    "    raw_data = open(filename, 'rt')\n",
    "    reader = csv.reader(raw_data, delimiter=',', quoting=csv.QUOTE_NONE)\n",
    "    dataset = list(reader)\n",
    "    for x in range (len(dataset) - 1):\n",
    "        for y in range (4):\n",
    "            dataset[x][y] = float(dataset[x][y])\n",
    "        if random.random() < split:\n",
    "            trainingSet.append(dataset[x])\n",
    "        else:\n",
    "            testSet.append(dataset[x])"
   ]
  },
  {
   "cell_type": "code",
   "execution_count": 18,
   "metadata": {},
   "outputs": [],
   "source": [
    "# Calculate the distance between two sample\n",
    "def euclideanDistance (instance1,instance2,length):\n",
    "    distance = 0\n",
    "    for x in range (length):\n",
    "        distance += pow((float(instance1[x]) - float(instance2[x])), 2)\n",
    "    return math.sqrt(distance)"
   ]
  },
  {
   "cell_type": "code",
   "execution_count": 19,
   "metadata": {},
   "outputs": [],
   "source": [
    "# Find Neighbors\n",
    "def getNeighbors(trainingSet,testInstance, k):\n",
    "    distance = []\n",
    "    length = len(testInstance) - 1\n",
    "    for x in trainingSet:\n",
    "        dist = euclideanDistance(testInstance, x, length)\n",
    "        distance.append((x, dist))\n",
    "    distance.sort(key = operator.itemgetter(1))\n",
    "    neighbors = [x[0] for x in distance[:k]]\n",
    "    return neighbors"
   ]
  },
  {
   "cell_type": "code",
   "execution_count": 20,
   "metadata": {},
   "outputs": [],
   "source": [
    "# Get Response\n",
    "def getResponse(neighbors):\n",
    "    classVotes = {}\n",
    "    for x in range(len(neighbors)):\n",
    "        response = neighbors[x][-1]\n",
    "        if response in classVotes:\n",
    "            classVotes[response] += 1\n",
    "        else:\n",
    "            classVotes[response] = 1\n",
    "    sortedVotes = sorted(classVotes.items(),key =operator.itemgetter(1),\n",
    "                         reverse = True)\n",
    "    return sortedVotes[0][0]"
   ]
  },
  {
   "cell_type": "code",
   "execution_count": 21,
   "metadata": {},
   "outputs": [],
   "source": [
    "# Calculate Prediction Accuracy\n",
    "def getAccuracy (testSet, predictions):\n",
    "    correct = 0\n",
    "    for x in range (len(testSet)):\n",
    "        if testSet[x][-1] == predictions[x]:\n",
    "            correct += 1\n",
    "    return (correct/float(len(testSet))) * 100.0"
   ]
  },
  {
   "cell_type": "code",
   "execution_count": 22,
   "metadata": {},
   "outputs": [],
   "source": [
    "# Prepare dataset\n",
    "def main():\n",
    "    trainingSet = []\n",
    "    testSet = []\n",
    "    split = 0.70\n",
    "    loadDataset('data.csv', split, trainingSet,testSet)\n",
    "    print('Train set: ' + repr(len(trainingSet)))\n",
    "    print('Test set: ' + repr(len(testSet)))\n",
    "# Get prediction    \n",
    "    predictions = []\n",
    "    k = 3\n",
    "    for x in range (len(testSet)):\n",
    "        neighbors = getNeighbors(trainingSet, testSet[x], k)\n",
    "        result = getResponse(neighbors)\n",
    "        predictions.append(result)\n",
    "        print(\"> predicted = \" + repr(result) + \", actual = \" + repr(testSet[x][-1]))\n",
    "    accuracy = getAccuracy(testSet, predictions)\n",
    "    print ('Accuracy: ' + repr(accuracy) + \"%\")"
   ]
  },
  {
   "cell_type": "code",
   "execution_count": 25,
   "metadata": {},
   "outputs": [
    {
     "name": "stdout",
     "output_type": "stream",
     "text": [
      "Train set: 407\n",
      "Test set: 161\n",
      "> predicted = '2', actual = '2'\n",
      "> predicted = '2', actual = '2'\n",
      "> predicted = '2', actual = '2'\n",
      "> predicted = '2', actual = '2'\n",
      "> predicted = '2', actual = '2'\n",
      "> predicted = '4', actual = '4'\n",
      "> predicted = '4', actual = '4'\n",
      "> predicted = '2', actual = '2'\n",
      "> predicted = '2', actual = '2'\n",
      "> predicted = '2', actual = '2'\n",
      "> predicted = '2', actual = '2'\n",
      "> predicted = '2', actual = '2'\n",
      "> predicted = '2', actual = '2'\n",
      "> predicted = '2', actual = '2'\n",
      "> predicted = '2', actual = '2'\n",
      "> predicted = '4', actual = '4'\n",
      "> predicted = '4', actual = '4'\n",
      "> predicted = '2', actual = '2'\n",
      "> predicted = '4', actual = '4'\n",
      "> predicted = '4', actual = '4'\n",
      "> predicted = '2', actual = '2'\n",
      "> predicted = '4', actual = '4'\n",
      "> predicted = '4', actual = '4'\n",
      "> predicted = '4', actual = '4'\n",
      "> predicted = '4', actual = '4'\n",
      "> predicted = '4', actual = '4'\n",
      "> predicted = '4', actual = '4'\n",
      "> predicted = '2', actual = '2'\n",
      "> predicted = '2', actual = '2'\n",
      "> predicted = '2', actual = '2'\n",
      "> predicted = '2', actual = '4'\n",
      "> predicted = '2', actual = '2'\n",
      "> predicted = '4', actual = '2'\n",
      "> predicted = '4', actual = '4'\n",
      "> predicted = '4', actual = '4'\n",
      "> predicted = '4', actual = '2'\n",
      "> predicted = '4', actual = '4'\n",
      "> predicted = '4', actual = '4'\n",
      "> predicted = '4', actual = '4'\n",
      "> predicted = '4', actual = '4'\n",
      "> predicted = '4', actual = '4'\n",
      "> predicted = '2', actual = '2'\n",
      "> predicted = '4', actual = '4'\n",
      "> predicted = '4', actual = '4'\n",
      "> predicted = '2', actual = '2'\n",
      "> predicted = '2', actual = '2'\n",
      "> predicted = '4', actual = '4'\n",
      "> predicted = '2', actual = '2'\n",
      "> predicted = '4', actual = '2'\n",
      "> predicted = '4', actual = '4'\n",
      "> predicted = '2', actual = '2'\n",
      "> predicted = '4', actual = '4'\n",
      "> predicted = '4', actual = '4'\n",
      "> predicted = '2', actual = '2'\n",
      "> predicted = '2', actual = '2'\n",
      "> predicted = '4', actual = '2'\n",
      "> predicted = '4', actual = '2'\n",
      "> predicted = '2', actual = '2'\n",
      "> predicted = '4', actual = '4'\n",
      "> predicted = '2', actual = '2'\n",
      "> predicted = '4', actual = '4'\n",
      "> predicted = '2', actual = '2'\n",
      "> predicted = '4', actual = '4'\n",
      "> predicted = '2', actual = '2'\n",
      "> predicted = '2', actual = '2'\n",
      "> predicted = '2', actual = '2'\n",
      "> predicted = '2', actual = '2'\n",
      "> predicted = '4', actual = '4'\n",
      "> predicted = '2', actual = '2'\n",
      "> predicted = '2', actual = '2'\n",
      "> predicted = '4', actual = '4'\n",
      "> predicted = '4', actual = '4'\n",
      "> predicted = '4', actual = '4'\n",
      "> predicted = '4', actual = '4'\n",
      "> predicted = '4', actual = '4'\n",
      "> predicted = '4', actual = '4'\n",
      "> predicted = '2', actual = '2'\n",
      "> predicted = '4', actual = '4'\n",
      "> predicted = '4', actual = '4'\n",
      "> predicted = '4', actual = '4'\n",
      "> predicted = '4', actual = '4'\n",
      "> predicted = '2', actual = '2'\n",
      "> predicted = '2', actual = '2'\n",
      "> predicted = '4', actual = '4'\n",
      "> predicted = '2', actual = '2'\n",
      "> predicted = '4', actual = '4'\n",
      "> predicted = '4', actual = '4'\n",
      "> predicted = '2', actual = '2'\n",
      "> predicted = '4', actual = '4'\n",
      "> predicted = '4', actual = '4'\n",
      "> predicted = '4', actual = '4'\n",
      "> predicted = '4', actual = '4'\n",
      "> predicted = '2', actual = '2'\n",
      "> predicted = '2', actual = '2'\n",
      "> predicted = '4', actual = '4'\n",
      "> predicted = '2', actual = '2'\n",
      "> predicted = '4', actual = '4'\n",
      "> predicted = '4', actual = '4'\n",
      "> predicted = '4', actual = '4'\n",
      "> predicted = '4', actual = '4'\n",
      "> predicted = '2', actual = '2'\n",
      "> predicted = '4', actual = '4'\n",
      "> predicted = '2', actual = '4'\n",
      "> predicted = '4', actual = '4'\n",
      "> predicted = '4', actual = '4'\n",
      "> predicted = '2', actual = '2'\n",
      "> predicted = '4', actual = '4'\n",
      "> predicted = '4', actual = '4'\n",
      "> predicted = '4', actual = '4'\n",
      "> predicted = '2', actual = '2'\n",
      "> predicted = '4', actual = '4'\n",
      "> predicted = '4', actual = '4'\n",
      "> predicted = '4', actual = '4'\n",
      "> predicted = '2', actual = '2'\n",
      "> predicted = '4', actual = '4'\n",
      "> predicted = '4', actual = '4'\n",
      "> predicted = '4', actual = '4'\n",
      "> predicted = '4', actual = '4'\n",
      "> predicted = '4', actual = '4'\n",
      "> predicted = '2', actual = '2'\n",
      "> predicted = '4', actual = '4'\n",
      "> predicted = '4', actual = '4'\n",
      "> predicted = '4', actual = '4'\n",
      "> predicted = '4', actual = '4'\n",
      "> predicted = '4', actual = '4'\n",
      "> predicted = '2', actual = '2'\n",
      "> predicted = '4', actual = '4'\n",
      "> predicted = '2', actual = '4'\n",
      "> predicted = '4', actual = '4'\n",
      "> predicted = '4', actual = '4'\n",
      "> predicted = '2', actual = '2'\n",
      "> predicted = '4', actual = '4'\n",
      "> predicted = '2', actual = '2'\n",
      "> predicted = '2', actual = '2'\n",
      "> predicted = '4', actual = '4'\n",
      "> predicted = '4', actual = '4'\n",
      "> predicted = '2', actual = '2'\n",
      "> predicted = '2', actual = '2'\n",
      "> predicted = '4', actual = '4'\n",
      "> predicted = '4', actual = '2'\n",
      "> predicted = '4', actual = '4'\n",
      "> predicted = '2', actual = '2'\n",
      "> predicted = '2', actual = '2'\n",
      "> predicted = '2', actual = '2'\n",
      "> predicted = '4', actual = '4'\n",
      "> predicted = '4', actual = '4'\n",
      "> predicted = '4', actual = '4'\n",
      "> predicted = '4', actual = '4'\n",
      "> predicted = '4', actual = '2'\n",
      "> predicted = '4', actual = '4'\n",
      "> predicted = '4', actual = '4'\n",
      "> predicted = '4', actual = '4'\n",
      "> predicted = '4', actual = '4'\n",
      "> predicted = '4', actual = '4'\n",
      "> predicted = '2', actual = '4'\n",
      "> predicted = '4', actual = '4'\n",
      "> predicted = '4', actual = '4'\n",
      "> predicted = '4', actual = '4'\n",
      "> predicted = '4', actual = '4'\n",
      "> predicted = '4', actual = '4'\n",
      "> predicted = '2', actual = '2'\n",
      "Accuracy: 93.16770186335404%\n"
     ]
    }
   ],
   "source": [
    "main()"
   ]
  },
  {
   "cell_type": "markdown",
   "metadata": {},
   "source": [
    "## Evaluation"
   ]
  },
  {
   "cell_type": "markdown",
   "metadata": {},
   "source": [
    "K-NN algorithm is an expert in handling numeric or nominal data. In the Breast Cancer dataset, we try to predict whether a breast tissue is malignant or benign and a malignant tumor is marked as “2” while a benign tumor is “4”. The diagnosis of breast tissue is decided by the 29 attributes before it such as “radisu_mean”, “texture_mean” …, all of the attributes except “diagnosis” attribute are numeric data where diagnosis attribute is nominal data. "
   ]
  },
  {
   "cell_type": "markdown",
   "metadata": {},
   "source": [
    "Because of the feature of K-NN algorithm, a larger value of K leads to a more accurate result. The value of K represents the number of neighbors used to classify samples. Therefore, we test the algorithm with different K value and compare the accuracy of each test in the same condition. The line chart of K values and accuracy is presented below:"
   ]
  },
  {
   "cell_type": "code",
   "execution_count": 31,
   "metadata": {},
   "outputs": [],
   "source": [
    "from sklearn.model_selection import train_test_split,cross_val_score\n",
    "from sklearn.metrics import classification_report, confusion_matrix\n",
    "from sklearn.model_selection import learning_curve,cross_val_score,validation_curve\n",
    "from sklearn.neighbors import KNeighborsClassifier\n",
    "from sklearn.model_selection import train_test_split\n",
    "from sklearn.preprocessing import LabelEncoder\n",
    "import pandas as pd \n",
    "import matplotlib.pyplot as plt"
   ]
  },
  {
   "cell_type": "code",
   "execution_count": 32,
   "metadata": {},
   "outputs": [],
   "source": [
    "le=LabelEncoder()\n",
    "for i in filename.columns:\n",
    "    filename[i]=le.fit_transform(filename[i])\n",
    "\n",
    "X=filename[filename.columns[:-1]]\n",
    "y=filename['diagnosis']\n",
    "X_train, X_test, y_train, y_test = train_test_split(X, y, test_size=0.3, random_state=42)"
   ]
  },
  {
   "cell_type": "code",
   "execution_count": null,
   "metadata": {},
   "outputs": [],
   "source": []
  },
  {
   "cell_type": "code",
   "execution_count": 33,
   "metadata": {},
   "outputs": [],
   "source": [
    "avg_score=[]\n",
    "for k in range(2,30):\n",
    "    knn=KNeighborsClassifier(n_jobs=-1,n_neighbors=k)\n",
    "    score=cross_val_score(knn,X_train,y_train,cv=5,n_jobs=-1,scoring='accuracy')\n",
    "    avg_score.append(score.mean())"
   ]
  },
  {
   "cell_type": "code",
   "execution_count": 34,
   "metadata": {},
   "outputs": [
    {
     "data": {
      "text/plain": [
       "Text(0, 0.5, 'accuracy')"
      ]
     },
     "execution_count": 34,
     "metadata": {},
     "output_type": "execute_result"
    },
    {
     "data": {
      "image/png": "[encoded data removed]",
      "text/plain": [
       "<Figure size 864x576 with 1 Axes>"
      ]
     },
     "metadata": {
      "needs_background": "light"
     },
     "output_type": "display_data"
    }
   ],
   "source": [
    "plt.figure(figsize=(12,8))\n",
    "plt.plot(range(2,30),avg_score)\n",
    "plt.xlabel(\"K_neighbours\")\n",
    "plt.ylabel(\"accuracy\")\n",
    "#plt.xticks(range(2,30,2))"
   ]
  },
  {
   "cell_type": "markdown",
   "metadata": {},
   "source": [
    "As the graph shown, the higest accuracy reach when K is around 3.   "
   ]
  },
  {
   "cell_type": "markdown",
   "metadata": {},
   "source": [
    "The entire dataset is separated into a training dataset and test dataset which occupied 70% and 30%. we tried to test this algorithm with k is 3 and get the accuracy of prediction. The accuracy is the highest within 70% as compared with other percentages like 67% and 33%, 80% and 20% or 75% and 25%. "
   ]
  },
  {
   "cell_type": "markdown",
   "metadata": {},
   "source": [
    "On the other hand, we try to implement Random Forest algorithm to breast cancer dataset as a contrast. We draw a grph to show the accuarcy of random forest below:"
   ]
  },
  {
   "cell_type": "code",
   "execution_count": 35,
   "metadata": {},
   "outputs": [
    {
     "data": {
      "image/png": "[encoded data removed]",
      "text/plain": [
       "<Figure size 432x576 with 1 Axes>"
      ]
     },
     "metadata": {
      "needs_background": "light"
     },
     "output_type": "display_data"
    }
   ],
   "source": [
    "from sklearn.ensemble import RandomForestClassifier\n",
    "rfc=RandomForestClassifier(n_jobs=-1,random_state=51)\n",
    "\n",
    "param_range=[10,25,50,100]\n",
    "curve=validation_curve(rfc,X_train,y_train,cv=5,param_name='n_estimators',\n",
    "    param_range=param_range,n_jobs=-1)\n",
    "\n",
    "train_score=[curve[0][i].mean() for i in range (0,len(param_range))]\n",
    "test_score=[curve[1][i].mean() for i in range (0,len(param_range))]\n",
    "fig=plt.figure(figsize=(6,8))\n",
    "plt.plot(param_range,train_score)\n",
    "plt.plot(param_range,test_score)\n",
    "plt.xticks=param_range"
   ]
  },
  {
   "cell_type": "markdown",
   "metadata": {},
   "source": [
    "In the graph, the blue line represents the accuracy trend of training data and the orange line represents the accuracy trend of testing data. By comparing the result of two algorithms, we can clearly obeserve that K-Nearest Neighbor have higher accuracy than Random Forest for this dataset.    "
   ]
  },
  {
   "cell_type": "markdown",
   "metadata": {},
   "source": [
    "## Conclusion "
   ]
  },
  {
   "cell_type": "markdown",
   "metadata": {},
   "source": [
    "K-Nearest Neighbor is an efficient algorithm for a large dataset with the numeric or nominal data type. However, the accuracy of prediction is not stable because a whole dataset should be randomly split into a training dataset and test dataset. As the different samples in each dataset, the result could be different even though keeping the same condition. This is about the feature of K-NN algorithm which could be difficult to improve. "
   ]
  },
  {
   "cell_type": "markdown",
   "metadata": {},
   "source": [
    "For this sample, the tumors can be distinguished as benign or malignant through this model among patient. This could be extended to the general public who has no breast cancer not only include the patient. People can be classified as healthy, benign or malignant."
   ]
  },
  {
   "cell_type": "markdown",
   "metadata": {},
   "source": [
    "## Ethical"
   ]
  },
  {
   "cell_type": "markdown",
   "metadata": {},
   "source": [
    "K-NN algorithm can be applied for data prediction, therefore, it could be utilized for breast cancer diagnosis. Breast cancer is the most common type of cancer in the world and it is the main reason that leads to the cause of death among women (Rana et al. 2015). The most effective way to reduce breast cancer deaths is early detection. Breast cancer refers to the uncontrolled growth of cells in breast tissue. It could adversely affect the whole body if these cells are not stopped such as bone pain, enlarged lymph nodes, dyspnea or jaundice. "
   ]
  },
  {
   "cell_type": "markdown",
   "metadata": {},
   "source": [
    "In order to predict the data, we need to get the information of the patient. However, that might invasion of privacy. The people who might have disease may not be willing to give their personal information or case to us. Because of this, the algorithm may not be useful in many cases. If we take the personal information from the patient without knowing them, even though it is helpful to the patient, it still has a serious ethical issue"
   ]
  },
  {
   "cell_type": "markdown",
   "metadata": {},
   "source": [
    "Also, the accuracy will not be 100% which means it will have mistakes.If there is any mistake happen in this case, it means patient may not get the suitable treatment and this may cause their lots of money, or even cause their lives.\n"
   ]
  },
  {
   "cell_type": "markdown",
   "metadata": {},
   "source": [
    "## Reference"
   ]
  },
  {
   "cell_type": "markdown",
   "metadata": {},
   "source": [
    "Bronshtein, A., 2017, A Quick Introduction to K-Nearest Neighbors Algorithm, A Medium Corporation, viewed 16 September 2019, <https://blog.usejournal.com/a-quick-introduction-to-k-nearest-neighbors-algorithm-62214cea29c7>\n",
    "\n",
    "Breast Cancer Wisconsin (Diagnostic) Data Set 2019, Kaggle.com. viewed 18 September 2019, <https://www.kaggle.com/uciml/breast-cancer-wisconsin-data#data.csv>.\n",
    "\n",
    "Brownlee, J., 2014, Tutorial To Implement k-Nearest Neighbors in Python From Scratch, Code Algorithms From Scratch, viewed 16 September 2019, < https://machinelearningmastery.com/tutorial-to-implement-k-nearest-neighbors-in-python-from-scratch/>\n",
    "\n",
    "Peterson, L.E., 2009. ‘K-nearest neighbor’. Scholarpedia, vol.4, no.2, p.1883.\n",
    "\n",
    "Rana, M., Chandorkan, P., Dsouza, A. and Kazi, N. 2015, ‘BREAST CANCER DIAGNOSIS AND RECURRENCE PREDICTION USING MACHINE LEARNING TECHNIQUES’, International Journal of Research in Engineering and Technology, vol.4, no.4, pp.372-376,.\n"
   ]
  },
  {
   "cell_type": "markdown",
   "metadata": {},
   "source": [
    "## Hyperlink to Github"
   ]
  },
  {
   "cell_type": "markdown",
   "metadata": {},
   "source": [
    "Assignemt paper: https://github.com/HaozheTong/UTS_ML_2019_SID13019841_ASSIGNMENT_2.git\n",
    "\n",
    "Video link: https://www.youtube.com/watch?v=8TvHobsXEys"
   ]
  }
 ],
 "metadata": {
  "kernelspec": {
   "display_name": "Python 3",
   "language": "python",
   "name": "python3"
  },
  "language_info": {
   "codemirror_mode": {
    "name": "ipython",
    "version": 3
   },
   "file_extension": ".py",
   "mimetype": "text/x-python",
   "name": "python",
   "nbconvert_exporter": "python",
   "pygments_lexer": "ipython3",
   "version": "3.7.3"
  }
 },
 "nbformat": 4,
 "nbformat_minor": 2
}
